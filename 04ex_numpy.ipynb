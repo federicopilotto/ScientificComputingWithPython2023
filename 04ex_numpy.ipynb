{
 "cells": [
  {
   "cell_type": "markdown",
   "metadata": {},
   "source": [
    "1\\. **Reductions**\n",
    "\n",
    "Given the following matrix:\n",
    "\n",
    "```python\n",
    "m = np.arange(12).reshape((3,4))\n",
    "```\n",
    "\n",
    "   1. find the total mean\n",
    "   2. find the mean for each row and column"
   ]
  },
  {
   "cell_type": "code",
   "execution_count": 1,
   "metadata": {},
   "outputs": [],
   "source": [
    "#import\n",
    "import numpy as np\n",
    "import numpy.random as npr\n",
    "import matplotlib.pyplot as plt\n",
    "import timeit\n"
   ]
  },
  {
   "cell_type": "code",
   "execution_count": 3,
   "metadata": {},
   "outputs": [
    {
     "name": "stdout",
     "output_type": "stream",
     "text": [
      "[[ 0  1  2  3]\n",
      " [ 4  5  6  7]\n",
      " [ 8  9 10 11]]\n",
      "Mean:  5.5\n",
      "Mean rows:  [1.5, 5.5, 9.5]\n",
      "Mean columns:  [4.0, 5.0, 6.0, 7.0]\n"
     ]
    }
   ],
   "source": [
    "m = np.arange(12).reshape((3,4))\n",
    "print(m)\n",
    "print('Mean: ', np.mean(m))\n",
    "\n",
    "mean_row = []\n",
    "mean_col = []\n",
    "for i in range(3):\n",
    "    mean_row.append(np.mean(m[i,:]))\n",
    "\n",
    "for i in range(4):\n",
    "    mean_col.append(np.mean(m[:, i]))\n",
    "\n",
    "print('Mean rows: ', mean_row)\n",
    "print('Mean columns: ', mean_col)\n"
   ]
  },
  {
   "cell_type": "markdown",
   "metadata": {},
   "source": [
    "2\\. **Outer product**\n",
    "\n",
    "Find the outer product of the following vectors:\n",
    "\n",
    "```python\n",
    "u = np.array([1, 3, 5, 7])\n",
    "v = np.array([2, 4, 6, 8])\n",
    "```\n",
    "\n",
    "Use different methods to do this:\n",
    "\n",
    "   1. Using the function `outer` in numpy\n",
    "   2. Using a nested `for` loop or a list comprehension\n",
    "   3. Using numpy broadcasting operations"
   ]
  },
  {
   "cell_type": "code",
   "execution_count": 4,
   "metadata": {},
   "outputs": [
    {
     "name": "stdout",
     "output_type": "stream",
     "text": [
      "Outer product with function: \n",
      " [[ 2  4  6  8]\n",
      " [ 6 12 18 24]\n",
      " [10 20 30 40]\n",
      " [14 28 42 56]]\n",
      "Outer product with list comprehension:\n",
      "  [2, 4, 6, 8, 6, 12, 18, 24, 10, 20, 30, 40, 14, 28, 42, 56]\n",
      "Outer product with broadcasting:\n",
      "  [[ 2  4  6  8]\n",
      " [ 6 12 18 24]\n",
      " [10 20 30 40]\n",
      " [14 28 42 56]]\n"
     ]
    }
   ],
   "source": [
    "u = np.array([1, 3, 5, 7])\n",
    "v = np.array([2, 4, 6, 8])\n",
    "result_fun = np.outer(u,v)\n",
    "print('Outer product with function: \\n', result_fun)\n",
    "\n",
    "result_list = [i*j for i in u for j in v]\n",
    "print('Outer product with list comprehension:\\n ', result_list)\n",
    "\n",
    "result_bro = u[:, None]*v[None, :]\n",
    "print('Outer product with broadcasting:\\n ', result_bro)\n"
   ]
  },
  {
   "cell_type": "markdown",
   "metadata": {},
   "source": [
    "3\\. **Matrix masking**\n",
    "\n",
    "Create a $10 \\times 6$ matrix of float random numbers, distributed between 0 and 3 according to a flat distribution.\n",
    "\n",
    "After creating the matrix, set all entries $< 0.3$ to zero using a mask."
   ]
  },
  {
   "cell_type": "code",
   "execution_count": 5,
   "metadata": {},
   "outputs": [
    {
     "name": "stdout",
     "output_type": "stream",
     "text": [
      "Ranom matrix\n",
      " [[2.89495062 0.82576608 0.52592333 1.70989507 0.69191378 0.59195121]\n",
      " [2.28736867 1.48951788 2.16670026 1.2522639  2.38922648 2.62882101]\n",
      " [2.76740216 1.10681593 0.50238816 0.18100695 0.98000982 0.60657872]\n",
      " [2.65373801 0.02937653 2.42544216 0.68808763 2.59346128 0.67933099]\n",
      " [1.6186208  2.49858029 1.43900205 0.89400807 0.86607008 1.24602663]\n",
      " [0.31996134 1.37418746 2.35954159 1.97614422 1.92218079 2.09854738]\n",
      " [0.75266683 2.76714146 1.63406786 1.09256535 1.20089549 0.58454417]\n",
      " [1.05418182 2.67063451 2.34668869 0.87315658 0.91002149 2.71478555]\n",
      " [0.00398123 1.32220424 2.23709196 0.9502861  1.66724542 2.69866377]\n",
      " [2.32585555 2.49434646 2.40435141 1.53144482 2.13657588 2.26803145]]\n",
      "\n",
      "Random matrix after the mask\n",
      " [[2.89495062 0.82576608 0.52592333 1.70989507 0.69191378 0.59195121]\n",
      " [2.28736867 1.48951788 2.16670026 1.2522639  2.38922648 2.62882101]\n",
      " [2.76740216 1.10681593 0.50238816 0.         0.98000982 0.60657872]\n",
      " [2.65373801 0.         2.42544216 0.68808763 2.59346128 0.67933099]\n",
      " [1.6186208  2.49858029 1.43900205 0.89400807 0.86607008 1.24602663]\n",
      " [0.31996134 1.37418746 2.35954159 1.97614422 1.92218079 2.09854738]\n",
      " [0.75266683 2.76714146 1.63406786 1.09256535 1.20089549 0.58454417]\n",
      " [1.05418182 2.67063451 2.34668869 0.87315658 0.91002149 2.71478555]\n",
      " [0.         1.32220424 2.23709196 0.9502861  1.66724542 2.69866377]\n",
      " [2.32585555 2.49434646 2.40435141 1.53144482 2.13657588 2.26803145]]\n"
     ]
    }
   ],
   "source": [
    "\n",
    "m = npr.rand(10,6)*3\n",
    "print('Ranom matrix\\n', m)\n",
    "print('')\n",
    "\n",
    "mask = (m < 0.3)\n",
    "m[mask] = 0\n",
    "print('Random matrix after the mask\\n', m)"
   ]
  },
  {
   "cell_type": "markdown",
   "metadata": {},
   "source": [
    "4\\. **Trigonometric functions**\n",
    "\n",
    "Use `np.linspace` to create an array of 100 numbers between $0$ and $2\\pi$ (inclusive).\n",
    "\n",
    "  * Extract every 10th element using the slice notation\n",
    "  * Reverse the array using the slice notation\n",
    "  * Extract elements where the absolute difference between the `sin` and `cos` functions evaluated for that element is $< 0.1$\n",
    "  * **Optional**: make a plot showing the `sin` and `cos` functions and indicate graphically (with a line or a marker) where they are close"
   ]
  },
  {
   "cell_type": "code",
   "execution_count": 6,
   "metadata": {},
   "outputs": [
    {
     "name": "stdout",
     "output_type": "stream",
     "text": [
      "[0.         0.06346652 0.12693304 0.19039955 0.25386607 0.31733259\n",
      " 0.38079911 0.44426563 0.50773215 0.57119866 0.63466518 0.6981317\n",
      " 0.76159822 0.82506474 0.88853126 0.95199777 1.01546429 1.07893081\n",
      " 1.14239733 1.20586385 1.26933037 1.33279688 1.3962634  1.45972992\n",
      " 1.52319644 1.58666296 1.65012947 1.71359599 1.77706251 1.84052903\n",
      " 1.90399555 1.96746207 2.03092858 2.0943951  2.15786162 2.22132814\n",
      " 2.28479466 2.34826118 2.41172769 2.47519421 2.53866073 2.60212725\n",
      " 2.66559377 2.72906028 2.7925268  2.85599332 2.91945984 2.98292636\n",
      " 3.04639288 3.10985939 3.17332591 3.23679243 3.30025895 3.36372547\n",
      " 3.42719199 3.4906585  3.55412502 3.61759154 3.68105806 3.74452458\n",
      " 3.8079911  3.87145761 3.93492413 3.99839065 4.06185717 4.12532369\n",
      " 4.1887902  4.25225672 4.31572324 4.37918976 4.44265628 4.5061228\n",
      " 4.56958931 4.63305583 4.69652235 4.75998887 4.82345539 4.88692191\n",
      " 4.95038842 5.01385494 5.07732146 5.14078798 5.2042545  5.26772102\n",
      " 5.33118753 5.39465405 5.45812057 5.52158709 5.58505361 5.64852012\n",
      " 5.71198664 5.77545316 5.83891968 5.9023862  5.96585272 6.02931923\n",
      " 6.09278575 6.15625227 6.21971879 6.28318531]\n",
      "\n",
      "Sliced matrix\n",
      " [0.         0.63466518 1.26933037 1.90399555 2.53866073 3.17332591\n",
      " 3.8079911  4.44265628 5.07732146 5.71198664]\n"
     ]
    }
   ],
   "source": [
    "#First point\n",
    "m = np.linspace(0, 2*np.pi, 100)\n",
    "print(m)\n",
    "print('')\n",
    "m_10th = m[0:100:10]\n",
    "print('Sliced matrix\\n', m_10th)"
   ]
  },
  {
   "cell_type": "code",
   "execution_count": 7,
   "metadata": {},
   "outputs": [
    {
     "name": "stdout",
     "output_type": "stream",
     "text": [
      "Reversed matrix\n",
      " [6.28318531 6.21971879 6.15625227 6.09278575 6.02931923 5.96585272\n",
      " 5.9023862  5.83891968 5.77545316 5.71198664 5.64852012 5.58505361\n",
      " 5.52158709 5.45812057 5.39465405 5.33118753 5.26772102 5.2042545\n",
      " 5.14078798 5.07732146 5.01385494 4.95038842 4.88692191 4.82345539\n",
      " 4.75998887 4.69652235 4.63305583 4.56958931 4.5061228  4.44265628\n",
      " 4.37918976 4.31572324 4.25225672 4.1887902  4.12532369 4.06185717\n",
      " 3.99839065 3.93492413 3.87145761 3.8079911  3.74452458 3.68105806\n",
      " 3.61759154 3.55412502 3.4906585  3.42719199 3.36372547 3.30025895\n",
      " 3.23679243 3.17332591 3.10985939 3.04639288 2.98292636 2.91945984\n",
      " 2.85599332 2.7925268  2.72906028 2.66559377 2.60212725 2.53866073\n",
      " 2.47519421 2.41172769 2.34826118 2.28479466 2.22132814 2.15786162\n",
      " 2.0943951  2.03092858 1.96746207 1.90399555 1.84052903 1.77706251\n",
      " 1.71359599 1.65012947 1.58666296 1.52319644 1.45972992 1.3962634\n",
      " 1.33279688 1.26933037 1.20586385 1.14239733 1.07893081 1.01546429\n",
      " 0.95199777 0.88853126 0.82506474 0.76159822 0.6981317  0.63466518\n",
      " 0.57119866 0.50773215 0.44426563 0.38079911 0.31733259 0.25386607\n",
      " 0.19039955 0.12693304 0.06346652 0.        ]\n"
     ]
    }
   ],
   "source": [
    "#Second Point\n",
    "reversed_m = m[::-1]\n",
    "print('Reversed matrix\\n', reversed_m)"
   ]
  },
  {
   "cell_type": "code",
   "execution_count": 8,
   "metadata": {},
   "outputs": [
    {
     "name": "stdout",
     "output_type": "stream",
     "text": [
      "[0.76159822 0.82506474 3.87145761 3.93492413]\n"
     ]
    },
    {
     "data": {
      "image/png": "[encoded data removed]",
      "text/plain": [
       "<Figure size 640x480 with 1 Axes>"
      ]
     },
     "metadata": {},
     "output_type": "display_data"
    }
   ],
   "source": [
    "#Third and Fourth point\n",
    "mask = (np.abs(np.sin(m) - np.cos(m)) < 0.1)\n",
    "new_m = m[mask]\n",
    "print(new_m)\n",
    "\n",
    "#add title and label to the plot\n",
    "plt.figure()\n",
    "plt.title('sin(m) and cos(m) functions')\n",
    "plt.xlabel('x')\n",
    "plt.ylabel('y')\n",
    "\n",
    "#plot\n",
    "plt.plot(m, np.sin(m), color = 'orange', label='sin(m)')\n",
    "plt.plot(m, np.cos(m), color = 'g', label='cos(m)')\n",
    "plt.vlines(new_m, ymin=-1, ymax=1, colors='red', linestyles='dashdot', label='functions are close')\n",
    "\n",
    "#add the legend\n",
    "plt.legend()\n",
    "\n",
    "plt.show()\n",
    "\n",
    "\n",
    "\n"
   ]
  },
  {
   "cell_type": "markdown",
   "metadata": {},
   "source": [
    "5\\. **Matrices**\n",
    "\n",
    "Create a matrix that shows the $10 \\times 10$ multiplication table.\n",
    "\n",
    " * Find the trace of the matrix\n",
    " * Extract the anti-diagonal matrix (this should be ```array([10, 18, 24, 28, 30, 30, 28, 24, 18, 10])```)\n",
    " * Extract the diagonal offset by 1 upwards (this should be ```array([ 2,  6, 12, 20, 30, 42, 56, 72, 90])```)"
   ]
  },
  {
   "cell_type": "code",
   "execution_count": 9,
   "metadata": {},
   "outputs": [
    {
     "name": "stdout",
     "output_type": "stream",
     "text": [
      "10x10 moltiplication table matrix\n",
      " [[  1   2   3   4   5   6   7   8   9  10]\n",
      " [  2   4   6   8  10  12  14  16  18  20]\n",
      " [  3   6   9  12  15  18  21  24  27  30]\n",
      " [  4   8  12  16  20  24  28  32  36  40]\n",
      " [  5  10  15  20  25  30  35  40  45  50]\n",
      " [  6  12  18  24  30  36  42  48  54  60]\n",
      " [  7  14  21  28  35  42  49  56  63  70]\n",
      " [  8  16  24  32  40  48  56  64  72  80]\n",
      " [  9  18  27  36  45  54  63  72  81  90]\n",
      " [ 10  20  30  40  50  60  70  80  90 100]] \n",
      "\n",
      "Trace of the 10x10 matrix:  385 \n",
      "\n",
      "Anti-diagonal matrix:  [10 18 24 28 30 30 28 24 18 10] \n",
      "\n",
      "Diagonal by 1 upwards:  [ 2  6 12 20 30 42 56 72 90]\n"
     ]
    }
   ],
   "source": [
    "m_10 = np.array([i*j for i in range(1,11) for j in range(1, 11)]).reshape(10,10)\n",
    "print('10x10 moltiplication table matrix\\n', m_10, '\\n')\n",
    "diag = np.diag(m_10)\n",
    "print('Trace of the 10x10 matrix: ', sum(diag),'\\n')\n",
    "\n",
    "antidiag = np.fliplr(m_10).diagonal()\n",
    "print('Anti-diagonal matrix: ', antidiag, '\\n')\n",
    "\n",
    "diag2 = np.diag(m_10[1:,:9])\n",
    "print('Diagonal by 1 upwards: ', diag2)"
   ]
  },
  {
   "cell_type": "markdown",
   "metadata": {},
   "source": [
    "6\\. **Broadcasting**\n",
    "\n",
    "Use broadcasting to create a grid of distances.\n",
    "\n",
    "Route 66 crosses the following cities in the US: Chicago, Springfield, Saint-Louis, Tulsa, Oklahoma City, Amarillo, Santa Fe, Albuquerque, Flagstaff, Los Angeles.\n",
    "\n",
    "The corresponding positions in miles are: `0, 198, 303, 736, 871, 1175, 1475, 1544, 1913, 2448`\n",
    "\n",
    "  * Build a 2D grid of distances among each city along Route 66\n",
    "  * Convert the distances in km"
   ]
  },
  {
   "cell_type": "code",
   "execution_count": 10,
   "metadata": {},
   "outputs": [
    {
     "name": "stdout",
     "output_type": "stream",
     "text": [
      "Distances matrix in miles\n",
      " [[   0  198  303  736  871 1175 1475 1544 1913 2448]\n",
      " [ 198    0  105  538  673  977 1277 1346 1715 2250]\n",
      " [ 303  105    0  433  568  872 1172 1241 1610 2145]\n",
      " [ 736  538  433    0  135  439  739  808 1177 1712]\n",
      " [ 871  673  568  135    0  304  604  673 1042 1577]\n",
      " [1175  977  872  439  304    0  300  369  738 1273]\n",
      " [1475 1277 1172  739  604  300    0   69  438  973]\n",
      " [1544 1346 1241  808  673  369   69    0  369  904]\n",
      " [1913 1715 1610 1177 1042  738  438  369    0  535]\n",
      " [2448 2250 2145 1712 1577 1273  973  904  535    0]] \n",
      "\n",
      "Distances matrix in kilometers\n",
      " [[   0.   316.8  484.8 1177.6 1393.6 1880.  2360.  2470.4 3060.8 3916.8]\n",
      " [ 316.8    0.   168.   860.8 1076.8 1563.2 2043.2 2153.6 2744.  3600. ]\n",
      " [ 484.8  168.     0.   692.8  908.8 1395.2 1875.2 1985.6 2576.  3432. ]\n",
      " [1177.6  860.8  692.8    0.   216.   702.4 1182.4 1292.8 1883.2 2739.2]\n",
      " [1393.6 1076.8  908.8  216.     0.   486.4  966.4 1076.8 1667.2 2523.2]\n",
      " [1880.  1563.2 1395.2  702.4  486.4    0.   480.   590.4 1180.8 2036.8]\n",
      " [2360.  2043.2 1875.2 1182.4  966.4  480.     0.   110.4  700.8 1556.8]\n",
      " [2470.4 2153.6 1985.6 1292.8 1076.8  590.4  110.4    0.   590.4 1446.4]\n",
      " [3060.8 2744.  2576.  1883.2 1667.2 1180.8  700.8  590.4    0.   856. ]\n",
      " [3916.8 3600.  3432.  2739.2 2523.2 2036.8 1556.8 1446.4  856.     0. ]]\n"
     ]
    }
   ],
   "source": [
    "#cities = np.array(['Chicago', 'Springfield', 'Saint-Louis', 'Tulsa', 'Oklahoma City', 'Amarillo', 'Santa Fe', 'Albuquerque', 'Flagstaff', 'Los Angeles'])\n",
    "miles = np.array([0, 198, 303, 736, 871, 1175, 1475, 1544, 1913, 2448])\n",
    "\n",
    "dist = np.abs(miles[:, None] - miles[None, :])\n",
    "print('Distances matrix in miles\\n', dist, '\\n')\n",
    "\n",
    "#1 miles = 1.609 kilometers\n",
    "print('Distances matrix in kilometers\\n', dist*1.6)"
   ]
  },
  {
   "cell_type": "markdown",
   "metadata": {},
   "source": [
    "7\\. **Prime numbers sieve**\n",
    "\n",
    "Compute the prime numbers in the 0-N (start with N=99) range with a sieve (mask).\n",
    "\n",
    "  * Construct a shape (N,) boolean array, which is the mask\n",
    "  * Identify the multiples of each number starting from 2 and set accordingly the corresponding mask element\n",
    "  * Apply the mask to obtain an array of ordered prime numbers\n",
    "  * Check the performances (with `timeit`); how does it scale with N?\n",
    "  * Implement the optimization suggested in the [sieve of Eratosthenes](https://en.wikipedia.org/wiki/Sieve_of_Eratosthenes)"
   ]
  },
  {
   "cell_type": "code",
   "execution_count": 32,
   "metadata": {},
   "outputs": [],
   "source": [
    "def is_prime(num):\n",
    "    if num == 0:\n",
    "        return False\n",
    "    \n",
    "    for i in range(2, num):\n",
    "        if num%i == 0:\n",
    "            return False\n",
    "    return True\n",
    "\n",
    "#function which implements the definition of prime numbers\n",
    "def primes(N):\n",
    "    primes = []\n",
    "    for i in range(N+1):\n",
    "        if is_prime(i):\n",
    "            primes.append(i)\n",
    "    return primes\n",
    "\n",
    "def sieve_eratosthenes(N):\n",
    "    m = np.ones(N, dtype=bool)\n",
    "    nums = np.arange(N)\n",
    "\n",
    "    for i in range(2, int(np.sqrt(N) + 1)):\n",
    "        if m[i]:\n",
    "            m[i**2::i] = False\n",
    "\n",
    "    #extract prime numbers from nums\n",
    "    prime = nums[m]\n",
    "    return prime\n"
   ]
  },
  {
   "cell_type": "code",
   "execution_count": 33,
   "metadata": {},
   "outputs": [
    {
     "name": "stdout",
     "output_type": "stream",
     "text": [
      "First 99 prime numbers:  [1, 2, 3, 5, 7, 11, 13, 17, 19, 23, 29, 31, 37, 41, 43, 47, 53, 59, 61, 67, 71, 73, 79, 83, 89, 97]\n",
      "Time for N = 99 with primes function:  8.095899829640985e-05\n",
      "Time for N = 99 with eratosthenes function:  8.65420006448403e-05 \n",
      "\n",
      "Time for N = 999 with primes function:  0.004517583001870662\n",
      "Time for N = 999 with eratosthenes function:  6.191599823068827e-05 \n",
      "\n",
      "Time for N = 9999 with primes function:  0.21191454099607654\n",
      "Time for N = 9999 with eratosthenes function:  7.212499622255564e-05\n"
     ]
    }
   ],
   "source": [
    "prime_nums = primes(99)\n",
    "print('First 99 prime numbers: ', prime_nums)\n",
    "\n",
    "#time for one execution with N = 99\n",
    "print('Time for N = 99 with primes function: ', timeit.timeit(lambda: primes(99), number=1))\n",
    "print('Time for N = 99 with eratosthenes function: ', timeit.timeit(lambda: sieve_eratosthenes(99), number=1), '\\n')\n",
    "\n",
    "#time for one execution with N = 999\n",
    "print('Time for N = 999 with primes function: ', timeit.timeit(lambda: primes(999), number=1))\n",
    "print('Time for N = 999 with eratosthenes function: ', timeit.timeit(lambda: sieve_eratosthenes(999), number=1), '\\n')\n",
    "\n",
    "#time for one execution with N = 9999\n",
    "print('Time for N = 9999 with primes function: ', timeit.timeit(lambda: primes(9999), number=1))\n",
    "print('Time for N = 9999 with eratosthenes function: ', timeit.timeit(lambda: sieve_eratosthenes(9999), number=1))\n",
    "\n",
    "#The Eratosthenes algorithm is 10^5 faster of the simple prime function with large list of prime to check,\n",
    "#as we can see in the last case with N = 9999\n",
    "\n"
   ]
  },
  {
   "cell_type": "markdown",
   "metadata": {},
   "source": [
    "8\\. **Diffusion using random walk**\n",
    "\n",
    "Consider a simple random walk process: at each step in time, a walker jumps right or left (+1 or -1) with equal probability. The goal is to find the typical distance from the origin of many random walkers after a given amount of time.\n",
    "\n",
    "*Hint*: create a 2D array where each row represents a walker, and each column represents a time step.\n",
    "\n",
    "  * Take 1000 walkers and let them walk for 200 steps\n",
    "  * Use `randint` to create a 2D array of size $walkers \\times steps$ with values -1 or 1\n",
    "  * Calculate the walking distances for each walker (e.g. by summing the elements in each row)\n",
    "  * Take the square of the previously-obtained array (element-wise)\n",
    "  * Compute the mean of the squared distances at each step (i.e. the mean along the columns)\n",
    "  * **Optional**: plot the average distances ($\\sqrt(distance^2)$) as a function of time (step)"
   ]
  },
  {
   "cell_type": "code",
   "execution_count": 30,
   "metadata": {},
   "outputs": [
    {
     "data": {
      "image/png": "[encoded data removed]",
      "text/plain": [
       "<Figure size 640x480 with 1 Axes>"
      ]
     },
     "metadata": {},
     "output_type": "display_data"
    }
   ],
   "source": [
    "walkers = 1000\n",
    "steps = 200\n",
    "\n",
    "#creating 2D grid of walkers x steps\n",
    "grid = a = npr.randint(-1, 1, walkers*steps).reshape(walkers, steps)\n",
    "grid[(grid == 0)] = 1\n",
    "#print(grid, '\\n')\n",
    "\n",
    "squared_sum = np.cumsum(grid, axis=1)**2\n",
    "#print(squared_sum, '\\n')\n",
    "mean = np.mean(squared_sum, axis=0)\n",
    "#print(mean)\n",
    "time = np.arange(1, steps + 1)\n",
    "\n",
    "#add title and label to the plot\n",
    "plt.figure()\n",
    "plt.title('Random walk')\n",
    "plt.xlabel('steps')\n",
    "plt.ylabel('distances')\n",
    "\n",
    "#plot\n",
    "plt.plot(time, mean, color = 'purple', label='squared distances')\n",
    "plt.legend()\n",
    "plt.show()"
   ]
  }
 ],
 "metadata": {
  "kernelspec": {
   "display_name": "Python 3 (ipykernel)",
   "language": "python",
   "name": "python3"
  },
  "language_info": {
   "codemirror_mode": {
    "name": "ipython",
    "version": 3
   },
   "file_extension": ".py",
   "mimetype": "text/x-python",
   "name": "python",
   "nbconvert_exporter": "python",
   "pygments_lexer": "ipython3",
   "version": "3.12.0"
  }
 },
 "nbformat": 4,
 "nbformat_minor": 2
}
